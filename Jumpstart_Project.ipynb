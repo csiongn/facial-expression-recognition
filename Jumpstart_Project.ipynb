{
  "nbformat": 4,
  "nbformat_minor": 0,
  "metadata": {
    "colab": {
      "name": "Jumpstart Project.ipynb",
      "provenance": [],
      "collapsed_sections": [],
      "toc_visible": true,
      "include_colab_link": true
    },
    "kernelspec": {
      "name": "python3",
      "display_name": "Python 3"
    },
    "accelerator": "GPU"
  },
  "cells": [
    {
      "cell_type": "markdown",
      "metadata": {
        "id": "view-in-github",
        "colab_type": "text"
      },
      "source": [
        "<a href=\"https://colab.research.google.com/github/csiongn/facial-expression-recognition/blob/main/Jumpstart_Project.ipynb\" target=\"_parent\"><img src=\"https://colab.research.google.com/assets/colab-badge.svg\" alt=\"Open In Colab\"/></a>"
      ]
    },
    {
      "cell_type": "markdown",
      "metadata": {
        "id": "2G-u5VKke7U5"
      },
      "source": [
        "Ng Choon Siong\n",
        "\n",
        "**Deep Learning Jumpstart Workshop: Project on facial expression recognition**\n",
        "\n",
        "---\n",
        "Data: https://www.kaggle.com/c/challenges-in-representation-learning-facial-expression-recognition-challenge/data\n",
        "\n",
        "---\n",
        "\n"
      ]
    },
    {
      "cell_type": "markdown",
      "metadata": {
        "id": "VhYzj4QF45A8"
      },
      "source": [
        "*Introduction*\n",
        "\n",
        "This project makes use of a simple convolutional neural network in order to catagorise images of faces into one of 7 categories (Angry, Disgust, Fear, Happy, Sad, Surprise, Neutral) based on the emotion shown. "
      ]
    },
    {
      "cell_type": "markdown",
      "metadata": {
        "id": "iTQu6g9de4or"
      },
      "source": [
        "## Connecting to Kaggle"
      ]
    },
    {
      "cell_type": "code",
      "metadata": {
        "id": "I_QQYbJQiAg-"
      },
      "source": [
        ""
      ],
      "execution_count": null,
      "outputs": []
    },
    {
      "cell_type": "code",
      "metadata": {
        "colab": {
          "base_uri": "https://localhost:8080/"
        },
        "id": "9fmW11hte05O",
        "outputId": "2cf4975a-9573-47e8-c1c5-8988e70ef23d"
      },
      "source": [
        "! cp kaggle.json ~/.kaggle/\n",
        "! chmod 600 ~/.kaggle/kaggle.json\n",
        "! kaggle datasets list"
      ],
      "execution_count": null,
      "outputs": [
        {
          "output_type": "stream",
          "text": [
            "Warning: Looks like you're using an outdated API Version, please consider updating (server 1.5.10 / client 1.5.4)\n",
            "ref                                                         title                                              size  lastUpdated          downloadCount  \n",
            "----------------------------------------------------------  ------------------------------------------------  -----  -------------------  -------------  \n",
            "gpreda/reddit-vaccine-myths                                 Reddit Vaccine Myths                              215KB  2021-03-15 08:28:36            420  \n",
            "dhruvildave/wikibooks-dataset                               Wikibooks Dataset                                   1GB  2021-02-18 10:08:27            430  \n",
            "crowww/a-large-scale-fish-dataset                           A Large Scale Fish Dataset                          3GB  2021-02-17 16:10:44            368  \n",
            "imsparsh/musicnet-dataset                                   MusicNet Dataset                                   22GB  2021-02-18 14:12:19            163  \n",
            "fatiimaezzahra/famous-iconic-women                          Famous Iconic Women                               838MB  2021-02-28 14:56:00            114  \n",
            "nickuzmenkov/nih-chest-xrays-tfrecords                      NIH Chest X-rays TFRecords                         11GB  2021-03-09 04:49:23             69  \n",
            "nickuzmenkov/ranzcr-clip-kfold-tfrecords                    RANZCR CLiP KFold TFRecords                         2GB  2021-02-21 13:29:51             26  \n",
            "mathurinache/the-lj-speech-dataset                          The LJ Speech Dataset                               3GB  2021-02-15 09:19:54             31  \n",
            "imsparsh/accentdb-core-extended                             AccentDB - Core & Extended                          6GB  2021-02-17 14:22:54             17  \n",
            "coloradokb/dandelionimages                                  DandelionImages                                     4GB  2021-02-19 20:03:47             29  \n",
            "stuartjames/lights                                          LightS: Light Specularity Dataset                  18GB  2021-02-18 14:32:26             15  \n",
            "landrykezebou/lvzhdr-tone-mapping-benchmark-dataset-tmonet  LVZ-HDR Tone Mapping Benchmark Dataset (TMO-Net)   24GB  2021-03-01 05:03:40             17  \n",
            "shivamb/netflix-shows                                       Netflix Movies and TV Shows                         1MB  2021-01-18 16:20:26         111828  \n",
            "arashnic/hr-analytics-job-change-of-data-scientists         HR Analytics: Job Change of Data Scientists       295KB  2020-12-07 00:25:10          13947  \n",
            "gpreda/covid-world-vaccination-progress                     COVID-19 World Vaccination Progress               140KB  2021-03-15 08:28:01          28230  \n",
            "michau96/restaurant-business-rankings-2020                  Restaurant Business Rankings 2020                  16KB  2021-01-30 14:20:45           7904  \n",
            "jsphyg/weather-dataset-rattle-package                       Rain in Australia                                   4MB  2020-12-11 10:26:12          38107  \n",
            "gpreda/reddit-wallstreetsbets-posts                         Reddit WallStreetBets Posts                        10MB  2021-03-15 08:29:16           3054  \n",
            "datasnaek/youtube-new                                       Trending YouTube Video Statistics                 201MB  2019-06-03 00:56:47         131001  \n",
            "google/tinyquickdraw                                        QuickDraw Sketches                                 11GB  2018-04-18 19:38:04           2904  \n"
          ],
          "name": "stdout"
        }
      ]
    },
    {
      "cell_type": "markdown",
      "metadata": {
        "id": "hDnJec2Nhjcg"
      },
      "source": [
        "Importing data"
      ]
    },
    {
      "cell_type": "code",
      "metadata": {
        "colab": {
          "base_uri": "https://localhost:8080/"
        },
        "id": "liD4FRxThlOG",
        "outputId": "ccbdbdb2-f2db-486c-b5ae-11c26992ec5c"
      },
      "source": [
        "! kaggle competitions download -c challenges-in-representation-learning-facial-expression-recognition-challenge"
      ],
      "execution_count": null,
      "outputs": [
        {
          "output_type": "stream",
          "text": [
            "Warning: Looks like you're using an outdated API Version, please consider updating (server 1.5.10 / client 1.5.4)\n",
            "Downloading fer2013.tar.gz to /content\n",
            " 92% 85.0M/92.0M [00:00<00:00, 95.6MB/s]\n",
            "100% 92.0M/92.0M [00:00<00:00, 118MB/s] \n",
            "Downloading icml_face_data.csv.zip to /content\n",
            " 84% 81.0M/96.6M [00:02<00:00, 43.2MB/s]\n",
            "100% 96.6M/96.6M [00:02<00:00, 45.6MB/s]\n",
            "Downloading example_submission.csv to /content\n",
            "  0% 0.00/7.01k [00:00<?, ?B/s]\n",
            "100% 7.01k/7.01k [00:00<00:00, 6.30MB/s]\n",
            "Downloading train.csv.zip to /content\n",
            " 74% 57.0M/77.3M [00:00<00:00, 73.5MB/s]\n",
            "100% 77.3M/77.3M [00:00<00:00, 122MB/s] \n",
            "Downloading test.csv.zip to /content\n",
            " 41% 8.00M/19.3M [00:00<00:00, 83.0MB/s]\n",
            "100% 19.3M/19.3M [00:00<00:00, 94.4MB/s]\n"
          ],
          "name": "stdout"
        }
      ]
    },
    {
      "cell_type": "code",
      "metadata": {
        "colab": {
          "base_uri": "https://localhost:8080/"
        },
        "id": "9G_5fFUpiTlJ",
        "outputId": "abbc9919-c42c-4eb2-c6c7-c76000842937"
      },
      "source": [
        "!mkdir train\n",
        "!mkdir test\n",
        "!unzip train.csv.zip -d train\n",
        "!unzip test.csv.zip -d test\n",
        "!rm train.csv.zip\n",
        "!rm test.csv.zip"
      ],
      "execution_count": null,
      "outputs": [
        {
          "output_type": "stream",
          "text": [
            "Archive:  train.csv.zip\n",
            "  inflating: train/train.csv         \n",
            "Archive:  test.csv.zip\n",
            "  inflating: test/test.csv           \n"
          ],
          "name": "stdout"
        }
      ]
    },
    {
      "cell_type": "markdown",
      "metadata": {
        "id": "qkM7SUfonhNb"
      },
      "source": [
        "## Using pandas to read dataset"
      ]
    },
    {
      "cell_type": "code",
      "metadata": {
        "id": "tPlWKx5PrsUQ"
      },
      "source": [
        "import pandas as pd\n",
        "import numpy as np"
      ],
      "execution_count": null,
      "outputs": []
    },
    {
      "cell_type": "code",
      "metadata": {
        "id": "Y9Nm39KbnvXv"
      },
      "source": [
        "train_df = pd.read_csv('train/train.csv')\n",
        "test_df = pd.read_csv('test/test.csv')"
      ],
      "execution_count": null,
      "outputs": []
    },
    {
      "cell_type": "code",
      "metadata": {
        "colab": {
          "base_uri": "https://localhost:8080/",
          "height": 419
        },
        "id": "5egdM1-Bnw1e",
        "outputId": "7613ec25-2421-41a1-81e3-06680ce9300a"
      },
      "source": [
        "train_df"
      ],
      "execution_count": null,
      "outputs": [
        {
          "output_type": "execute_result",
          "data": {
            "text/html": [
              "<div>\n",
              "<style scoped>\n",
              "    .dataframe tbody tr th:only-of-type {\n",
              "        vertical-align: middle;\n",
              "    }\n",
              "\n",
              "    .dataframe tbody tr th {\n",
              "        vertical-align: top;\n",
              "    }\n",
              "\n",
              "    .dataframe thead th {\n",
              "        text-align: right;\n",
              "    }\n",
              "</style>\n",
              "<table border=\"1\" class=\"dataframe\">\n",
              "  <thead>\n",
              "    <tr style=\"text-align: right;\">\n",
              "      <th></th>\n",
              "      <th>emotion</th>\n",
              "      <th>pixels</th>\n",
              "    </tr>\n",
              "  </thead>\n",
              "  <tbody>\n",
              "    <tr>\n",
              "      <th>0</th>\n",
              "      <td>0</td>\n",
              "      <td>70 80 82 72 58 58 60 63 54 58 60 48 89 115 121...</td>\n",
              "    </tr>\n",
              "    <tr>\n",
              "      <th>1</th>\n",
              "      <td>0</td>\n",
              "      <td>151 150 147 155 148 133 111 140 170 174 182 15...</td>\n",
              "    </tr>\n",
              "    <tr>\n",
              "      <th>2</th>\n",
              "      <td>2</td>\n",
              "      <td>231 212 156 164 174 138 161 173 182 200 106 38...</td>\n",
              "    </tr>\n",
              "    <tr>\n",
              "      <th>3</th>\n",
              "      <td>4</td>\n",
              "      <td>24 32 36 30 32 23 19 20 30 41 21 22 32 34 21 1...</td>\n",
              "    </tr>\n",
              "    <tr>\n",
              "      <th>4</th>\n",
              "      <td>6</td>\n",
              "      <td>4 0 0 0 0 0 0 0 0 0 0 0 3 15 23 28 48 50 58 84...</td>\n",
              "    </tr>\n",
              "    <tr>\n",
              "      <th>...</th>\n",
              "      <td>...</td>\n",
              "      <td>...</td>\n",
              "    </tr>\n",
              "    <tr>\n",
              "      <th>28704</th>\n",
              "      <td>2</td>\n",
              "      <td>84 85 85 85 85 85 85 85 86 86 86 87 86 86 91 9...</td>\n",
              "    </tr>\n",
              "    <tr>\n",
              "      <th>28705</th>\n",
              "      <td>0</td>\n",
              "      <td>114 112 113 113 111 111 112 113 115 113 114 11...</td>\n",
              "    </tr>\n",
              "    <tr>\n",
              "      <th>28706</th>\n",
              "      <td>4</td>\n",
              "      <td>74 81 87 89 95 100 98 93 105 120 127 133 146 1...</td>\n",
              "    </tr>\n",
              "    <tr>\n",
              "      <th>28707</th>\n",
              "      <td>0</td>\n",
              "      <td>222 227 203 90 86 90 84 77 94 87 99 119 134 14...</td>\n",
              "    </tr>\n",
              "    <tr>\n",
              "      <th>28708</th>\n",
              "      <td>4</td>\n",
              "      <td>195 199 205 206 205 203 206 209 208 210 212 21...</td>\n",
              "    </tr>\n",
              "  </tbody>\n",
              "</table>\n",
              "<p>28709 rows × 2 columns</p>\n",
              "</div>"
            ],
            "text/plain": [
              "       emotion                                             pixels\n",
              "0            0  70 80 82 72 58 58 60 63 54 58 60 48 89 115 121...\n",
              "1            0  151 150 147 155 148 133 111 140 170 174 182 15...\n",
              "2            2  231 212 156 164 174 138 161 173 182 200 106 38...\n",
              "3            4  24 32 36 30 32 23 19 20 30 41 21 22 32 34 21 1...\n",
              "4            6  4 0 0 0 0 0 0 0 0 0 0 0 3 15 23 28 48 50 58 84...\n",
              "...        ...                                                ...\n",
              "28704        2  84 85 85 85 85 85 85 85 86 86 86 87 86 86 91 9...\n",
              "28705        0  114 112 113 113 111 111 112 113 115 113 114 11...\n",
              "28706        4  74 81 87 89 95 100 98 93 105 120 127 133 146 1...\n",
              "28707        0  222 227 203 90 86 90 84 77 94 87 99 119 134 14...\n",
              "28708        4  195 199 205 206 205 203 206 209 208 210 212 21...\n",
              "\n",
              "[28709 rows x 2 columns]"
            ]
          },
          "metadata": {
            "tags": []
          },
          "execution_count": 9
        }
      ]
    },
    {
      "cell_type": "code",
      "metadata": {
        "colab": {
          "base_uri": "https://localhost:8080/",
          "height": 419
        },
        "id": "dYR5MjWZoUtS",
        "outputId": "3e5d0005-89fa-4fb2-f02e-aaa967c63567"
      },
      "source": [
        "test_df"
      ],
      "execution_count": null,
      "outputs": [
        {
          "output_type": "execute_result",
          "data": {
            "text/html": [
              "<div>\n",
              "<style scoped>\n",
              "    .dataframe tbody tr th:only-of-type {\n",
              "        vertical-align: middle;\n",
              "    }\n",
              "\n",
              "    .dataframe tbody tr th {\n",
              "        vertical-align: top;\n",
              "    }\n",
              "\n",
              "    .dataframe thead th {\n",
              "        text-align: right;\n",
              "    }\n",
              "</style>\n",
              "<table border=\"1\" class=\"dataframe\">\n",
              "  <thead>\n",
              "    <tr style=\"text-align: right;\">\n",
              "      <th></th>\n",
              "      <th>pixels</th>\n",
              "    </tr>\n",
              "  </thead>\n",
              "  <tbody>\n",
              "    <tr>\n",
              "      <th>0</th>\n",
              "      <td>254 254 254 254 254 249 255 160 2 58 53 70 77 ...</td>\n",
              "    </tr>\n",
              "    <tr>\n",
              "      <th>1</th>\n",
              "      <td>156 184 198 202 204 207 210 212 213 214 215 21...</td>\n",
              "    </tr>\n",
              "    <tr>\n",
              "      <th>2</th>\n",
              "      <td>69 118 61 60 96 121 103 87 103 88 70 90 115 12...</td>\n",
              "    </tr>\n",
              "    <tr>\n",
              "      <th>3</th>\n",
              "      <td>205 203 236 157 83 158 120 116 94 86 155 180 2...</td>\n",
              "    </tr>\n",
              "    <tr>\n",
              "      <th>4</th>\n",
              "      <td>87 79 74 66 74 96 77 80 80 84 83 89 102 91 84 ...</td>\n",
              "    </tr>\n",
              "    <tr>\n",
              "      <th>...</th>\n",
              "      <td>...</td>\n",
              "    </tr>\n",
              "    <tr>\n",
              "      <th>7173</th>\n",
              "      <td>50 36 17 22 23 29 33 39 34 37 37 37 39 43 48 5...</td>\n",
              "    </tr>\n",
              "    <tr>\n",
              "      <th>7174</th>\n",
              "      <td>178 174 172 173 181 188 191 194 196 199 200 20...</td>\n",
              "    </tr>\n",
              "    <tr>\n",
              "      <th>7175</th>\n",
              "      <td>17 17 16 23 28 22 19 17 25 26 20 24 31 19 27 9...</td>\n",
              "    </tr>\n",
              "    <tr>\n",
              "      <th>7176</th>\n",
              "      <td>30 28 28 29 31 30 42 68 79 81 77 67 67 71 63 6...</td>\n",
              "    </tr>\n",
              "    <tr>\n",
              "      <th>7177</th>\n",
              "      <td>19 13 14 12 13 16 21 33 50 57 71 84 97 108 122...</td>\n",
              "    </tr>\n",
              "  </tbody>\n",
              "</table>\n",
              "<p>7178 rows × 1 columns</p>\n",
              "</div>"
            ],
            "text/plain": [
              "                                                 pixels\n",
              "0     254 254 254 254 254 249 255 160 2 58 53 70 77 ...\n",
              "1     156 184 198 202 204 207 210 212 213 214 215 21...\n",
              "2     69 118 61 60 96 121 103 87 103 88 70 90 115 12...\n",
              "3     205 203 236 157 83 158 120 116 94 86 155 180 2...\n",
              "4     87 79 74 66 74 96 77 80 80 84 83 89 102 91 84 ...\n",
              "...                                                 ...\n",
              "7173  50 36 17 22 23 29 33 39 34 37 37 37 39 43 48 5...\n",
              "7174  178 174 172 173 181 188 191 194 196 199 200 20...\n",
              "7175  17 17 16 23 28 22 19 17 25 26 20 24 31 19 27 9...\n",
              "7176  30 28 28 29 31 30 42 68 79 81 77 67 67 71 63 6...\n",
              "7177  19 13 14 12 13 16 21 33 50 57 71 84 97 108 122...\n",
              "\n",
              "[7178 rows x 1 columns]"
            ]
          },
          "metadata": {
            "tags": []
          },
          "execution_count": 10
        }
      ]
    },
    {
      "cell_type": "code",
      "metadata": {
        "id": "KLEK08IHoHZO"
      },
      "source": [
        "train_x_raw = train_df['pixels'].str.split() # Memory Intensive: Extracts pixels attribute string and splits by whitespace\n",
        "train_y_raw = train_df['emotion']\n",
        "\n",
        "test_x_raw = test_df['pixels'].str.split()"
      ],
      "execution_count": null,
      "outputs": []
    },
    {
      "cell_type": "code",
      "metadata": {
        "colab": {
          "base_uri": "https://localhost:8080/"
        },
        "id": "dEDkHsC-xVO6",
        "outputId": "68105699-1405-4975-fa54-0a28d16ab37f"
      },
      "source": [
        "train_y_raw"
      ],
      "execution_count": null,
      "outputs": [
        {
          "output_type": "execute_result",
          "data": {
            "text/plain": [
              "0        0\n",
              "1        0\n",
              "2        2\n",
              "3        4\n",
              "4        6\n",
              "        ..\n",
              "28704    2\n",
              "28705    0\n",
              "28706    4\n",
              "28707    0\n",
              "28708    4\n",
              "Name: emotion, Length: 28709, dtype: int64"
            ]
          },
          "metadata": {
            "tags": []
          },
          "execution_count": 12
        }
      ]
    },
    {
      "cell_type": "code",
      "metadata": {
        "id": "v4Vmo0ftwFh1"
      },
      "source": [
        "train_x_raw = np.array(list(map(lambda lst: list(map(float, lst)), train_x_raw)))\n",
        "test_x_raw = np.array(list(map(lambda lst: list(map(float, lst)), test_x_raw)))"
      ],
      "execution_count": null,
      "outputs": []
    },
    {
      "cell_type": "markdown",
      "metadata": {
        "id": "zksKiAUdqMZD"
      },
      "source": [
        "## Data preprocessing"
      ]
    },
    {
      "cell_type": "code",
      "metadata": {
        "id": "_dak0ZMFoj3C"
      },
      "source": [
        "length_of_image = 48\n",
        "batch_size = 64\n",
        "number_of_classes = 7\n",
        "epochs = 10\n",
        "learning_rate = 0.001"
      ],
      "execution_count": null,
      "outputs": []
    },
    {
      "cell_type": "code",
      "metadata": {
        "colab": {
          "base_uri": "https://localhost:8080/"
        },
        "id": "KToLoBhspzsZ",
        "outputId": "26c46686-28cb-47e9-e207-2385c9aa3034"
      },
      "source": [
        "train_x_raw.shape"
      ],
      "execution_count": null,
      "outputs": [
        {
          "output_type": "execute_result",
          "data": {
            "text/plain": [
              "(28709, 2304)"
            ]
          },
          "metadata": {
            "tags": []
          },
          "execution_count": 14
        }
      ]
    },
    {
      "cell_type": "code",
      "metadata": {
        "id": "A1mZHD0Ezo9k"
      },
      "source": [
        "# Calculate how much data to use for training and how much for validation\n",
        "n_training = int(0.9 * train_x_raw.shape[0]) # 90% of training data is used for training\n",
        "n_validation = train_x_raw.shape[0] - n_training # Remaining training data used for validation"
      ],
      "execution_count": null,
      "outputs": []
    },
    {
      "cell_type": "code",
      "metadata": {
        "colab": {
          "base_uri": "https://localhost:8080/"
        },
        "id": "zkfjGtYi0IrJ",
        "outputId": "153e219d-10c8-4974-b480-f2dbf02008a1"
      },
      "source": [
        "n_training"
      ],
      "execution_count": null,
      "outputs": [
        {
          "output_type": "execute_result",
          "data": {
            "text/plain": [
              "25838"
            ]
          },
          "metadata": {
            "tags": []
          },
          "execution_count": 16
        }
      ]
    },
    {
      "cell_type": "code",
      "metadata": {
        "id": "Z8xxZIdBz_gf"
      },
      "source": [
        "train_x, validation_x = train_x_raw[:n_training,:], train_x_raw[n_training:,:]"
      ],
      "execution_count": null,
      "outputs": []
    },
    {
      "cell_type": "code",
      "metadata": {
        "colab": {
          "base_uri": "https://localhost:8080/"
        },
        "id": "OS8aop1r2ZzM",
        "outputId": "1005eb07-2fbd-4835-de7a-bc64a2adcc5c"
      },
      "source": [
        "len(train_y_raw)"
      ],
      "execution_count": null,
      "outputs": [
        {
          "output_type": "execute_result",
          "data": {
            "text/plain": [
              "28709"
            ]
          },
          "metadata": {
            "tags": []
          },
          "execution_count": 18
        }
      ]
    },
    {
      "cell_type": "code",
      "metadata": {
        "id": "Syk2lid61YiC"
      },
      "source": [
        "train_y, validation_y = train_y_raw[:n_training], train_y_raw[n_training:]"
      ],
      "execution_count": null,
      "outputs": []
    },
    {
      "cell_type": "code",
      "metadata": {
        "id": "lux8Xqrx15lU"
      },
      "source": [
        "test_x = test_x_raw"
      ],
      "execution_count": null,
      "outputs": []
    },
    {
      "cell_type": "code",
      "metadata": {
        "id": "-oeObWpCrC20"
      },
      "source": [
        "train_x = train_x.reshape(train_x.shape[0], length_of_image, length_of_image, 1)\n",
        "validation_x = validation_x.reshape(validation_x.shape[0], length_of_image, length_of_image, 1)\n",
        "test_x = test_x.reshape(test_x.shape[0], length_of_image, length_of_image, 1)\n",
        "input_shape = (length_of_image, length_of_image, 1)"
      ],
      "execution_count": null,
      "outputs": []
    },
    {
      "cell_type": "code",
      "metadata": {
        "colab": {
          "base_uri": "https://localhost:8080/"
        },
        "id": "au7NKqCoselX",
        "outputId": "445a6d44-3b2f-46dc-9fdc-9f463e961d28"
      },
      "source": [
        "train_x.shape, validation_x.shape, test_x.shape"
      ],
      "execution_count": null,
      "outputs": [
        {
          "output_type": "execute_result",
          "data": {
            "text/plain": [
              "((25838, 48, 48, 1), (2871, 48, 48, 1), (7178, 48, 48, 1))"
            ]
          },
          "metadata": {
            "tags": []
          },
          "execution_count": 22
        }
      ]
    },
    {
      "cell_type": "markdown",
      "metadata": {
        "id": "YUtnJvp4snTD"
      },
      "source": [
        "Training dataset: Batch dimension (25838), image size (48 x 48 x 1)\n",
        "\n",
        "Validation dataset: Batch dimension (2871), image size (48 x 48 x 1)\n",
        "\n",
        "Testing dataset: Batch dimension (7178), image size (48 x 48 x 1)"
      ]
    },
    {
      "cell_type": "markdown",
      "metadata": {
        "id": "hYZHcO74ujAc"
      },
      "source": [
        "Currently, each image pixel is represented by an integer in [0, 255]. So we perform normalisation. "
      ]
    },
    {
      "cell_type": "code",
      "metadata": {
        "id": "0qITlTLSuxfv"
      },
      "source": [
        "train_x /= 255.\n",
        "validation_x /= 255.\n",
        "test_x /= 255."
      ],
      "execution_count": null,
      "outputs": []
    },
    {
      "cell_type": "markdown",
      "metadata": {
        "id": "6nyWkXV6PIQf"
      },
      "source": [
        "## Data exploration"
      ]
    },
    {
      "cell_type": "code",
      "metadata": {
        "colab": {
          "base_uri": "https://localhost:8080/"
        },
        "id": "FgCtYS2iPVtR",
        "outputId": "2f123c40-2705-4e5c-bd80-7da3f4ab1ac3"
      },
      "source": [
        "train_df['emotion']"
      ],
      "execution_count": null,
      "outputs": [
        {
          "output_type": "execute_result",
          "data": {
            "text/plain": [
              "0        0\n",
              "1        0\n",
              "2        2\n",
              "3        4\n",
              "4        6\n",
              "        ..\n",
              "28704    2\n",
              "28705    0\n",
              "28706    4\n",
              "28707    0\n",
              "28708    4\n",
              "Name: emotion, Length: 28709, dtype: int64"
            ]
          },
          "metadata": {
            "tags": []
          },
          "execution_count": 24
        }
      ]
    },
    {
      "cell_type": "code",
      "metadata": {
        "colab": {
          "base_uri": "https://localhost:8080/"
        },
        "id": "c4WBRPdVPKXD",
        "outputId": "1d3ffcf8-e403-4682-d556-d629bb6a55b9"
      },
      "source": [
        "# Frequency distribution of labels in training set\n",
        "unique_elements, counts_elements = np.unique(train_df['emotion'], return_counts=True)\n",
        "unique_elements, counts_elements"
      ],
      "execution_count": null,
      "outputs": [
        {
          "output_type": "execute_result",
          "data": {
            "text/plain": [
              "(array([0, 1, 2, 3, 4, 5, 6]),\n",
              " array([3995,  436, 4097, 7215, 4830, 3171, 4965]))"
            ]
          },
          "metadata": {
            "tags": []
          },
          "execution_count": 25
        }
      ]
    },
    {
      "cell_type": "markdown",
      "metadata": {
        "id": "LTjoBTPnm5In"
      },
      "source": [
        "## Setting up tensorflow"
      ]
    },
    {
      "cell_type": "code",
      "metadata": {
        "id": "Sz83PItom4x8"
      },
      "source": [
        "import os\n",
        "\n",
        "import tensorflow as tf\n",
        "\n",
        "import tensorflow.keras\n",
        "\n",
        "from tensorflow.keras.datasets import mnist\n",
        "\n",
        "from tensorflow.keras.models import Model\n",
        "from tensorflow.keras.layers import Dense, Dropout, Flatten,Input\n",
        "from tensorflow.keras.layers import Conv2D, MaxPooling2D\n",
        "\n",
        "from tensorflow.keras.layers.experimental import preprocessing"
      ],
      "execution_count": null,
      "outputs": []
    },
    {
      "cell_type": "code",
      "metadata": {
        "id": "JJmvzaN9yaPw"
      },
      "source": [
        "train_y = tf.keras.utils.to_categorical(train_y, number_of_classes)\n",
        "validation_y = tf.keras.utils.to_categorical(validation_y, number_of_classes)"
      ],
      "execution_count": null,
      "outputs": []
    },
    {
      "cell_type": "code",
      "metadata": {
        "colab": {
          "base_uri": "https://localhost:8080/"
        },
        "id": "prelubzSygVd",
        "outputId": "fbe16246-6227-4f12-a35c-84a9714ed6fc"
      },
      "source": [
        "train_y.shape, validation_y.shape"
      ],
      "execution_count": null,
      "outputs": [
        {
          "output_type": "execute_result",
          "data": {
            "text/plain": [
              "((25838, 7), (2871, 7))"
            ]
          },
          "metadata": {
            "tags": []
          },
          "execution_count": 28
        }
      ]
    },
    {
      "cell_type": "code",
      "metadata": {
        "id": "JjziOef6yniv"
      },
      "source": [
        "Inp=Input(shape=input_shape)\n",
        "x = Conv2D(32, kernel_size=(2, 2), activation='relu',name = 'Conv_01')(Inp)\n",
        "x = Conv2D(32, (3, 3), activation='relu',name = 'Conv_02')(x)\n",
        "x = MaxPooling2D(pool_size=(2, 2),name = 'MaxPool_01')(x)\n",
        "x = Dropout(0.5, name = 'Dropout_01')(x)\n",
        "x = Conv2D(32, (3, 3), activation='relu',name = 'Conv_03')(x)\n",
        "x = Conv2D(32, (3, 3), activation='relu',name = 'Conv_04')(x)\n",
        "x = MaxPooling2D(pool_size=(3, 3),name = 'MaxPool_02')(x)\n",
        "x = Flatten(name = 'Flatten_01')(x)\n",
        "x = Dense(128, activation='relu',name = 'Dense_01')(x)\n",
        "x = Dense(128, activation='relu',name = 'Dense_02')(x)\n",
        "x = Dense(128, activation='relu',name = 'Dense_03')(x)\n",
        "x = Dropout(0.5,name = 'Dropout_02')(x)\n",
        "output = Dense(number_of_classes, activation='softmax',name = 'Dense_04')(x)"
      ],
      "execution_count": null,
      "outputs": []
    },
    {
      "cell_type": "code",
      "metadata": {
        "id": "g9PyxymZyruY"
      },
      "source": [
        "model = Model(Inp,output,name='CNN_Model')"
      ],
      "execution_count": null,
      "outputs": []
    },
    {
      "cell_type": "code",
      "metadata": {
        "id": "NvdoCGjIzD59",
        "colab": {
          "base_uri": "https://localhost:8080/"
        },
        "outputId": "603ef49a-f6d1-4649-a11d-bc007f070e19"
      },
      "source": [
        "model.summary()"
      ],
      "execution_count": null,
      "outputs": [
        {
          "output_type": "stream",
          "text": [
            "Model: \"CNN_Model\"\n",
            "_________________________________________________________________\n",
            "Layer (type)                 Output Shape              Param #   \n",
            "=================================================================\n",
            "input_1 (InputLayer)         [(None, 48, 48, 1)]       0         \n",
            "_________________________________________________________________\n",
            "Conv_01 (Conv2D)             (None, 47, 47, 32)        160       \n",
            "_________________________________________________________________\n",
            "Conv_02 (Conv2D)             (None, 45, 45, 32)        9248      \n",
            "_________________________________________________________________\n",
            "MaxPool_01 (MaxPooling2D)    (None, 22, 22, 32)        0         \n",
            "_________________________________________________________________\n",
            "Dropout_01 (Dropout)         (None, 22, 22, 32)        0         \n",
            "_________________________________________________________________\n",
            "Conv_03 (Conv2D)             (None, 20, 20, 32)        9248      \n",
            "_________________________________________________________________\n",
            "Conv_04 (Conv2D)             (None, 18, 18, 32)        9248      \n",
            "_________________________________________________________________\n",
            "MaxPool_02 (MaxPooling2D)    (None, 6, 6, 32)          0         \n",
            "_________________________________________________________________\n",
            "Flatten_01 (Flatten)         (None, 1152)              0         \n",
            "_________________________________________________________________\n",
            "Dense_01 (Dense)             (None, 128)               147584    \n",
            "_________________________________________________________________\n",
            "Dense_02 (Dense)             (None, 128)               16512     \n",
            "_________________________________________________________________\n",
            "Dense_03 (Dense)             (None, 128)               16512     \n",
            "_________________________________________________________________\n",
            "Dropout_02 (Dropout)         (None, 128)               0         \n",
            "_________________________________________________________________\n",
            "Dense_04 (Dense)             (None, 7)                 903       \n",
            "=================================================================\n",
            "Total params: 209,415\n",
            "Trainable params: 209,415\n",
            "Non-trainable params: 0\n",
            "_________________________________________________________________\n"
          ],
          "name": "stdout"
        }
      ]
    },
    {
      "cell_type": "code",
      "metadata": {
        "id": "rE3Xrn4XzIA_"
      },
      "source": [
        "#optimizer\n",
        "opt = tf.keras.optimizers.Adam(lr = learning_rate)\n",
        "\n",
        "model.compile(loss= tf.keras.losses.categorical_crossentropy, #'categorical_crossentropy'\n",
        "              optimizer= opt,\n",
        "              metrics=['accuracy'])"
      ],
      "execution_count": null,
      "outputs": []
    },
    {
      "cell_type": "code",
      "metadata": {
        "id": "oqsGJhLazKLP",
        "colab": {
          "base_uri": "https://localhost:8080/"
        },
        "outputId": "2e21b87a-e877-44d1-f37a-c233c2f450db"
      },
      "source": [
        "hist = model.fit(train_x, train_y,\n",
        "          batch_size=batch_size,\n",
        "          epochs=epochs,\n",
        "          verbose=1,\n",
        "          callbacks = None,\n",
        "          validation_data=(validation_x, validation_y))"
      ],
      "execution_count": null,
      "outputs": [
        {
          "output_type": "stream",
          "text": [
            "Epoch 1/10\n",
            "404/404 [==============================] - 38s 12ms/step - loss: 1.8285 - accuracy: 0.2344 - val_loss: 1.6030 - val_accuracy: 0.3678\n",
            "Epoch 2/10\n",
            "404/404 [==============================] - 4s 11ms/step - loss: 1.5981 - accuracy: 0.3685 - val_loss: 1.4324 - val_accuracy: 0.4563\n",
            "Epoch 3/10\n",
            "404/404 [==============================] - 4s 11ms/step - loss: 1.4456 - accuracy: 0.4420 - val_loss: 1.3119 - val_accuracy: 0.4953\n",
            "Epoch 4/10\n",
            "404/404 [==============================] - 4s 11ms/step - loss: 1.3671 - accuracy: 0.4747 - val_loss: 1.2495 - val_accuracy: 0.5193\n",
            "Epoch 5/10\n",
            "404/404 [==============================] - 4s 11ms/step - loss: 1.2942 - accuracy: 0.4994 - val_loss: 1.2276 - val_accuracy: 0.5253\n",
            "Epoch 6/10\n",
            "404/404 [==============================] - 4s 11ms/step - loss: 1.2516 - accuracy: 0.5229 - val_loss: 1.2102 - val_accuracy: 0.5423\n",
            "Epoch 7/10\n",
            "404/404 [==============================] - 4s 11ms/step - loss: 1.2096 - accuracy: 0.5435 - val_loss: 1.1594 - val_accuracy: 0.5583\n",
            "Epoch 8/10\n",
            "404/404 [==============================] - 4s 11ms/step - loss: 1.1556 - accuracy: 0.5632 - val_loss: 1.1602 - val_accuracy: 0.5601\n",
            "Epoch 9/10\n",
            "404/404 [==============================] - 4s 11ms/step - loss: 1.1246 - accuracy: 0.5776 - val_loss: 1.1372 - val_accuracy: 0.5670\n",
            "Epoch 10/10\n",
            "404/404 [==============================] - 4s 11ms/step - loss: 1.0931 - accuracy: 0.5875 - val_loss: 1.1352 - val_accuracy: 0.5646\n"
          ],
          "name": "stdout"
        }
      ]
    },
    {
      "cell_type": "markdown",
      "metadata": {
        "id": "XdLWkXm2QGKg"
      },
      "source": [
        "## Model prediction"
      ]
    },
    {
      "cell_type": "code",
      "metadata": {
        "id": "oDWrshHMM1Y0"
      },
      "source": [
        "predictions = model.predict(validation_x)"
      ],
      "execution_count": null,
      "outputs": []
    },
    {
      "cell_type": "code",
      "metadata": {
        "colab": {
          "base_uri": "https://localhost:8080/"
        },
        "id": "E51f58xeQN4a",
        "outputId": "1549ed1f-ecc8-4715-88ce-61811d72efbd"
      },
      "source": [
        "predictions[:5]"
      ],
      "execution_count": null,
      "outputs": [
        {
          "output_type": "execute_result",
          "data": {
            "text/plain": [
              "array([[3.4398139e-01, 9.8881051e-02, 2.2806989e-01, 2.5771835e-03,\n",
              "        2.6521105e-01, 1.1329491e-02, 4.9950007e-02],\n",
              "       [6.7370682e-05, 1.3458423e-08, 7.5477568e-05, 9.9866986e-01,\n",
              "        1.3440236e-04, 9.2617207e-05, 9.6032617e-04],\n",
              "       [1.3908984e-01, 2.3343125e-02, 2.7862144e-01, 8.0544101e-03,\n",
              "        3.0099747e-01, 4.5158293e-02, 2.0473546e-01],\n",
              "       [1.3716668e-01, 1.0118799e-02, 2.0357925e-01, 9.8499963e-03,\n",
              "        4.7100139e-01, 1.1953019e-02, 1.5633090e-01],\n",
              "       [2.9051468e-01, 1.3358365e-01, 3.4705257e-01, 3.6849253e-02,\n",
              "        1.3443510e-01, 4.0600691e-02, 1.6963985e-02]], dtype=float32)"
            ]
          },
          "metadata": {
            "tags": []
          },
          "execution_count": 35
        }
      ]
    },
    {
      "cell_type": "code",
      "metadata": {
        "colab": {
          "base_uri": "https://localhost:8080/"
        },
        "id": "vv-8N9ncQOlR",
        "outputId": "6bb662dc-3304-489e-e78b-ce4191b5a8d1"
      },
      "source": [
        "validation_y[:5]"
      ],
      "execution_count": null,
      "outputs": [
        {
          "output_type": "execute_result",
          "data": {
            "text/plain": [
              "array([[0., 0., 0., 0., 1., 0., 0.],\n",
              "       [0., 0., 0., 1., 0., 0., 0.],\n",
              "       [0., 0., 1., 0., 0., 0., 0.],\n",
              "       [0., 0., 0., 0., 0., 0., 1.],\n",
              "       [1., 0., 0., 0., 0., 0., 0.]], dtype=float32)"
            ]
          },
          "metadata": {
            "tags": []
          },
          "execution_count": 36
        }
      ]
    },
    {
      "cell_type": "code",
      "metadata": {
        "id": "36hMpX7FtlLg"
      },
      "source": [
        ""
      ],
      "execution_count": null,
      "outputs": []
    }
  ]
}